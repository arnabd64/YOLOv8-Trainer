{
 "cells": [
  {
   "cell_type": "markdown",
   "id": "3ed53354",
   "metadata": {},
   "source": [
    "# Fine Tune YOLOv8 for Object Detection on Custom Dataset from Roboflow\n",
    "\n",
    "## Contents\n",
    "\n",
    "1. [Setup Environment](#setup-environment)\n",
    "2. [Download dataset from Roboflow Universe](#download-dataset-from-roboflow-universe)\n",
    "3. [Create and Export `data.yaml`](#create--export-datayaml)\n",
    "4. [Initiate Model & Hyperparameters](#initiate-model--hyperparameters)\n",
    "5. [Start Finetuning](#start-the-training-process)\n",
    "6. [Evaluate Training](#validate-the-model)\n",
    "7. [Export Model to Other Formats](#export-the-model-in-a-different-format)"
   ]
  },
  {
   "cell_type": "markdown",
   "id": "fa5ad108",
   "metadata": {},
   "source": [
    "## Setup Environment\n",
    "\n",
    "To finetune a YOLOv8 model we need to install the following packages:\n",
    "\n",
    "1. [__ultralytics__](https://docs.ultralytics.com/): Provides the backend code needed for fine tuning and inference of YOLOv8 models.\n",
    "2. [__roboflow__](https://universe.roboflow.com/): An online repository for a wide selection of Computer Vision datasets. You can upload your own dataset, annotate your images, perform data augmentation and export the dataset onto your training session.\n",
    "3. __PyYAML__: Needed to export `data.yaml` file which is needed by the dataloader to feed data and labels to the YOLOv8 model.\n",
    "\n",
    "### Creating Virtual Environemnt\n",
    "\n",
    "If you want to run this notebook on a local machine or any cloud VM with __NVIDIA GPU__, then it is recommended to create a virtual environment either using `conda` or `venv` environment manager. For Google Colab users, no need to create a virtual environment, simply install the dependencies.\n",
    "\n",
    "#### `conda`\n",
    "\n",
    "```bash\n",
    "$ conda create -n yolo python=3.11\n",
    "$ conda activate yolo\n",
    "$ conda install jupyter ipython\n",
    "```\n",
    "\n",
    "#### `venv`\n",
    "\n",
    "```bash\n",
    "$ python -m venv venv\n",
    "$ source venv/bin/activate\n",
    "$ pip install jupyter ipython\n",
    "```"
   ]
  },
  {
   "cell_type": "code",
   "execution_count": null,
   "id": "f67be741-9a91-4708-9f54-b406ec296241",
   "metadata": {},
   "outputs": [],
   "source": [
    "# install dependencies\n",
    "! pip install --upgrade --no-cache-dir --quiet ultralytics roboflow pyyaml tensorboard"
   ]
  },
  {
   "cell_type": "markdown",
   "id": "76eda9f5",
   "metadata": {},
   "source": [
    "## Downloading a Dataset from Roboflow Universe\n",
    "\n",
    "1. Visit [Roboflow Universe](https://universe.roboflow.com/) and create an account. An account is necessary to obtain an API key, which is required for using the `roboflow` package.\n",
    "\n",
    "2. Browse the available datasets on Roboflow Universe and select the one you wish to download.\n",
    "\n",
    "3. Click on the **Download Dataset** button for your chosen dataset. This will redirect you to the dataset's download page.\n",
    "\n",
    "4. From the available export formats, choose **YOLOv8**.\n",
    "\n",
    "5. Click on **Show Download Code** and then hit **Continue**. \n",
    "\n",
    "6. Copy the code provided on the download page and paste it in the cell below. Remove the first line, `!pip install roboflow`, as the `roboflow` package should already be installed. \n",
    "\n",
    "7. Add `location` parameter to the line `dataset = version.download(\"yolov8\")`. Set the parameter value to the string `datasets`. \n",
    "\n",
    "**Note:** _I have found that setting the name of the parent directory as `datasets` reduces chances of minor bugs. Also enables the use of yolo cli_"
   ]
  },
  {
   "cell_type": "code",
   "execution_count": null,
   "id": "4b95551d-86ca-4f96-b0b1-4048d3554ebb",
   "metadata": {},
   "outputs": [],
   "source": [
    "from roboflow import Roboflow\n",
    "rf = Roboflow(api_key=\"API-KEY\")\n",
    "project = rf.workspace(\"large-benchmark-datasets\").project(\"logistics-sz9jr\")\n",
    "version = project.version(2)\n",
    "dataset = version.download(\"yolov8\", location=\"datasets\")"
   ]
  },
  {
   "cell_type": "markdown",
   "id": "cec11e20",
   "metadata": {},
   "source": [
    "## Create & Export `data.yaml`\n",
    "\n",
    "The `data.yaml` file acts as a configuration file that specifies how the training data is loaded and processed. It provides crucial information to the training process, essentially telling the model where to find the data and how to interpret it. The yaml file should have the following keys. You can manually create the `data.yaml` file but I prefer using the `pyyaml` library for this task. The `pyyaml` library converts a python dictionary into a yaml file.\n",
    "\n",
    "**Note**: Certain roboflow datasets don't have a train-valid-test split but rather a simple train-valid or train-test split. In such scenarios you can replace the the `valid` key with the name of the test folder or replace the `test` key with the name of the validation folder."
   ]
  },
  {
   "cell_type": "code",
   "execution_count": null,
   "id": "1a05f1bc-b821-465a-8473-46c18adff2b0",
   "metadata": {},
   "outputs": [],
   "source": [
    "# get the list of labels\n",
    "labels = list(project.classes.keys())\n",
    "nc = len(labels)\n",
    "\n",
    "# prepare the dictionary\n",
    "data_yaml = {\n",
    "    \"path\": \".\",\n",
    "    \"train\": \"train\",\n",
    "    \"val\": \"valid\",\n",
    "    \"test\": \"test\",\n",
    "    \"nc\": nc,\n",
    "    \"names\": labels\n",
    "}\n",
    "\n",
    "# print(data_yaml)"
   ]
  },
  {
   "cell_type": "code",
   "execution_count": null,
   "id": "3b06d0e7-1035-47b7-a28f-47ab72c244e0",
   "metadata": {},
   "outputs": [],
   "source": [
    "import yaml\n",
    "\n",
    "with open(\"data.yaml\", \"w\") as fp:\n",
    "    yaml.dump(data_yaml, fp, yaml.SafeDumper)"
   ]
  },
  {
   "cell_type": "markdown",
   "id": "0d806b35",
   "metadata": {},
   "source": [
    "## Initiate Model & Hyperparameters\n",
    "\n",
    "### Model\n",
    "\n",
    "Ultralytics provides 5 different scaled YOLOv8 models for Object Detection. You can see their accuracy and performance by clicking on this [LINK](https://docs.ultralytics.com/tasks/detect/#models). If you want to train your model from scratch then replace the file extension of the model variant from `.pt` to `.yaml`. The __nano model__(`yolov8n.pt`) is the fastest performaning model with the lowest accuracy and __medium model__(`yolov8m.pt`) provides a good balance between both performance and accuracy."
   ]
  },
  {
   "cell_type": "code",
   "execution_count": null,
   "id": "b5db3391-4dfb-4578-b972-f20dfa3f9878",
   "metadata": {},
   "outputs": [],
   "source": [
    "from ultralytics import YOLO\n",
    "\n",
    "model = YOLO(\"yolov8s.pt\", task=\"detect\")"
   ]
  },
  {
   "cell_type": "markdown",
   "id": "43822296",
   "metadata": {},
   "source": [
    "### Hyperparameters\n",
    "\n",
    "Click on the following [LINK](https://docs.ultralytics.com/usage/cfg/#train-settings) for list of all hyperparameters needed for fine tuning the model. These hyperparameters are to be passed to the model as a python dictionary."
   ]
  },
  {
   "cell_type": "code",
   "execution_count": null,
   "id": "28803be5",
   "metadata": {},
   "outputs": [],
   "source": [
    "simple_hyperparameters = dict(\n",
    "    device = 0,\n",
    "    data = \"data.yaml\",\n",
    "    epochs = 20,\n",
    "    batch = 16,\n",
    "    seed = 1337\n",
    ")"
   ]
  },
  {
   "cell_type": "code",
   "execution_count": null,
   "id": "12248b5b",
   "metadata": {},
   "outputs": [],
   "source": [
    "hyperparameters = dict(\n",
    "    device = 0,\n",
    "    data = \"data.yaml\",\n",
    "    epochs = 20,\n",
    "    batch = 16,\n",
    "    optimizer = \"AdamW\",\n",
    "    cos_lr = True,\n",
    "    lr0 = 1e-4,\n",
    "    warmup_epochs = 5,\n",
    "    project = \"object-detection\",\n",
    "    name = \"training-1\",\n",
    "    verbose = True,\n",
    "    seed = 1337\n",
    ")"
   ]
  },
  {
   "cell_type": "markdown",
   "id": "6093ad4a",
   "metadata": {},
   "source": [
    "## Start the Training Process"
   ]
  },
  {
   "cell_type": "code",
   "execution_count": null,
   "id": "d7f18da3-4b7b-4b7a-bd72-9d041ca6e88c",
   "metadata": {},
   "outputs": [],
   "source": [
    "_ = model.train(**hyperparameters)"
   ]
  },
  {
   "cell_type": "markdown",
   "id": "2afabad3",
   "metadata": {},
   "source": [
    "## Validate the Model"
   ]
  },
  {
   "cell_type": "code",
   "execution_count": null,
   "id": "e213b55b-1dce-414c-9e72-c3c10956f43f",
   "metadata": {},
   "outputs": [],
   "source": [
    "_ = model.val()"
   ]
  },
  {
   "cell_type": "markdown",
   "id": "a48a1359",
   "metadata": {},
   "source": [
    "## Export the model in a different format\n",
    "\n",
    "You can check out all the supported exporting formats at this [LINK](https://docs.ultralytics.com/modes/export/#arguments)."
   ]
  },
  {
   "cell_type": "code",
   "execution_count": null,
   "id": "9d72d204-7661-4878-9738-50b00a6c5edc",
   "metadata": {},
   "outputs": [],
   "source": [
    "! yolo export model=object-detector/test-run-3/weights/best.pt format=tflite"
   ]
  }
 ],
 "metadata": {
  "kernelspec": {
   "display_name": "Python 3 (ipykernel)",
   "language": "python",
   "name": "python3"
  },
  "language_info": {
   "codemirror_mode": {
    "name": "ipython",
    "version": 3
   },
   "file_extension": ".py",
   "mimetype": "text/x-python",
   "name": "python",
   "nbconvert_exporter": "python",
   "pygments_lexer": "ipython3",
   "version": "3.10.13"
  }
 },
 "nbformat": 4,
 "nbformat_minor": 5
}
